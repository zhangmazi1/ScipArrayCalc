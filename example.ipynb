{
 "cells": [
  {
   "cell_type": "markdown",
   "metadata": {},
   "source": [
    "## 对比ScipArrayModel与建立优化模型流程与cvxpy建模对比"
   ]
  },
  {
   "cell_type": "code",
   "execution_count": 1,
   "metadata": {},
   "outputs": [],
   "source": [
    "import numpy as np\n",
    "from pyscipopt import SCIP_PARAMSETTING\n",
    "from scip_array_model import ScipArrayModel"
   ]
  },
  {
   "cell_type": "markdown",
   "metadata": {},
   "source": [
    "### ScipArrayModel"
   ]
  },
  {
   "cell_type": "code",
   "execution_count": 2,
   "metadata": {},
   "outputs": [
    {
     "name": "stdout",
     "output_type": "stream",
     "text": [
      "optimal\n",
      "[0.0 1.0 1.0 1.0 0.0 1.0 0.0 1.0 0.0 1.0 0.0 1.0 1.0 1.0 0.0 1.0 1.0 1.0\n",
      " 0.0 0.0]\n"
     ]
    }
   ],
   "source": [
    "# Problem data.\n",
    "n = 20\n",
    "np.random.seed(1)\n",
    "A = np.random.randn(n)\n",
    "b = np.random.randn(n)\n",
    "\n",
    "# 创建ScipArrayModel实例\n",
    "model = ScipArrayModel()\n",
    "\n",
    "# 创建VarArray类型决策变量，因其派生于ndarray，所以支持与numpy相关运算\n",
    "x = model.add_var(shape=(n,), v_type='C')\n",
    "\n",
    "# 创建并添加约束，支持与cvxpy相似的数组式约束添加\n",
    "constraints = [0 <= x, x <= 1]\n",
    "model.add_cons(constraints)\n",
    "\n",
    "# 创建目标函数\n",
    "objective = np.sum(A * x - b)\n",
    "\n",
    "# 可以设置scip参数\n",
    "# model.setPresolve(SCIP_PARAMSETTING.DEFAULT)\n",
    "# model.setHeuristics(SCIP_PARAMSETTING.OFF)\n",
    "# model.disablePropagation()\n",
    "\n",
    "# 计算求解\n",
    "model.setObjective(objective, \"minimize\")\n",
    "model.optimize()\n",
    "\n",
    "# 求解决策变量值\n",
    "print(model.getStatus())\n",
    "print(x.value)"
   ]
  },
  {
   "cell_type": "markdown",
   "metadata": {},
   "source": [
    "### cvxpy"
   ]
  },
  {
   "cell_type": "code",
   "execution_count": 3,
   "metadata": {},
   "outputs": [
    {
     "name": "stdout",
     "output_type": "stream",
     "text": [
      "[3.99299047e-10 9.99999999e-01 9.99999999e-01 9.99999999e-01\n",
      " 9.58484742e-10 1.00000000e+00 3.53378116e-10 9.99999999e-01\n",
      " 2.45023563e-09 9.99999997e-01 4.79225215e-10 1.00000000e+00\n",
      " 9.99999998e-01 9.99999998e-01 7.02196465e-10 9.99999999e-01\n",
      " 9.99999995e-01 9.99999999e-01 2.35560236e-08 1.36089118e-09]\n"
     ]
    }
   ],
   "source": [
    "import cvxpy as cp\n",
    "# Problem data.\n",
    "n = 20\n",
    "np.random.seed(1)\n",
    "A = np.random.randn(n)\n",
    "b = np.random.randn(n)\n",
    "\n",
    "# Construct the problem.\n",
    "x = cp.Variable(n)\n",
    "objective = cp.Minimize(cp.sum(A @ x - b))\n",
    "constraints = [0 <= x, x <= 1]\n",
    "prob = cp.Problem(objective, constraints)\n",
    "\n",
    "# The optimal objective value is returned by `prob.solve()`.\n",
    "result = prob.solve()\n",
    "# The optimal value for x is stored in `x.value`.\n",
    "print(x.value)"
   ]
  }
 ],
 "metadata": {
  "kernelspec": {
   "display_name": "Python 3",
   "language": "python",
   "name": "python3"
  },
  "language_info": {
   "codemirror_mode": {
    "name": "ipython",
    "version": 3
   },
   "file_extension": ".py",
   "mimetype": "text/x-python",
   "name": "python",
   "nbconvert_exporter": "python",
   "pygments_lexer": "ipython3",
   "version": "3.7.4"
  }
 },
 "nbformat": 4,
 "nbformat_minor": 1
}
